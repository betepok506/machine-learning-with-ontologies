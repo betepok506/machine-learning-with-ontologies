{
 "cells": [
  {
   "cell_type": "markdown",
   "metadata": {},
   "source": [
    "# Data preprocessing"
   ]
  },
  {
   "cell_type": "markdown",
   "metadata": {},
   "source": [
    "## Все работает"
   ]
  },
  {
   "cell_type": "markdown",
   "metadata": {},
   "source": [
    "## Load data"
   ]
  },
  {
   "cell_type": "code",
   "execution_count": 1,
   "metadata": {},
   "outputs": [],
   "source": [
    "import gzip\n",
    "from tqdm import tqdm\n",
    "\n",
    "interactions = {}\n",
    "data = []\n",
    "# Load data\n",
    "org_id = '9606' # Change to 9606 for Human\n"
   ]
  },
  {
   "cell_type": "code",
   "execution_count": 2,
   "metadata": {},
   "outputs": [
    {
     "name": "stdout",
     "output_type": "stream",
     "text": [
      "Total number of interactions: 420534\n",
      "Total number of proteins: 17185\n"
     ]
    }
   ],
   "source": [
    "with gzip.open(f'./data/{org_id}.protein.links.v11.0.txt.gz', 'rt') as f:\n",
    "    next(f) # Skip header\n",
    "    for line in f:\n",
    "        p1, p2, score = line.strip().split()\n",
    "        if float(score) < 700: # Filter high confidence interactions\n",
    "            continue\n",
    "        if p1 not in interactions:\n",
    "            interactions[p1] = set()\n",
    "            \n",
    "        if p2 not in interactions:\n",
    "            interactions[p2] = set()\n",
    "            \n",
    "        if p2 not in interactions[p1]:\n",
    "            interactions[p1].add(p2)\n",
    "            interactions[p2].add(p1)\n",
    "            data.append((p1, p2))\n",
    "\n",
    "print('Total number of interactions:', len(data))\n",
    "print('Total number of proteins:', len(interactions.keys()))"
   ]
  },
  {
   "cell_type": "markdown",
   "metadata": {},
   "source": [
    "## Split training, validation and testing data\n"
   ]
  },
  {
   "cell_type": "code",
   "execution_count": 3,
   "metadata": {},
   "outputs": [
    {
     "name": "stdout",
     "output_type": "stream",
     "text": [
      "Number of training interactions: 269143\n",
      "Number of validation interactions: 67285\n",
      "Number of testing interactions: 84106\n"
     ]
    }
   ],
   "source": [
    "import numpy as np\n",
    "import math\n",
    "\n",
    "np.random.seed(seed=0) # Fix random seed for reproducibility\n",
    "np.random.shuffle(data)\n",
    "\n",
    "train_n = int(math.ceil(len(data) * 0.8))\n",
    "valid_n = int(math.ceil(train_n * 0.8))\n",
    "train_data = data[:valid_n]\n",
    "valid_data = data[valid_n:train_n]\n",
    "test_data = data[train_n:]\n",
    "print('Number of training interactions:', len(train_data))\n",
    "print('Number of validation interactions:', len(valid_data))\n",
    "print('Number of testing interactions:', len(test_data))"
   ]
  },
  {
   "cell_type": "markdown",
   "metadata": {},
   "source": [
    "## Save the data"
   ]
  },
  {
   "cell_type": "code",
   "execution_count": 4,
   "metadata": {},
   "outputs": [],
   "source": [
    "def save(filename, data):\n",
    "    with open(filename, 'w') as f:\n",
    "        for p1, p2 in data:\n",
    "            f.write(f'{p1}\\t{p2}\\n')\n",
    "            f.write(f'{p2}\\t{p1}\\n')\n",
    "\n",
    "save(f'./data/train/{org_id}.protein.links.v11.0.txt', train_data)\n",
    "save(f'./data/valid/{org_id}.protein.links.v11.0.txt', valid_data)\n",
    "save(f'./data/test/{org_id}.protein.links.v11.0.txt', test_data)"
   ]
  },
  {
   "cell_type": "markdown",
   "metadata": {},
   "source": [
    "## Generate negative interactions"
   ]
  },
  {
   "cell_type": "raw",
   "metadata": {},
   "source": [
    "!pip install tqdm"
   ]
  },
  {
   "cell_type": "code",
   "execution_count": 5,
   "metadata": {},
   "outputs": [
    {
     "data": {
      "text/plain": [
       "420534"
      ]
     },
     "execution_count": 5,
     "metadata": {},
     "output_type": "execute_result"
    }
   ],
   "source": [
    "len(data)"
   ]
  },
  {
   "cell_type": "markdown",
   "metadata": {},
   "source": [
    "**Изменил генерацию негативных взаимодействий, т.к она может быть бесконечно долгой**"
   ]
  },
  {
   "cell_type": "code",
   "execution_count": 6,
   "metadata": {},
   "outputs": [
    {
     "name": "stderr",
     "output_type": "stream",
     "text": [
      "100%|██████████| 420534/420534 [00:00<00:00, 760643.32it/s]"
     ]
    },
    {
     "name": "stdout",
     "output_type": "stream",
     "text": [
      "Количество негативных взаимодействий: 420534\n"
     ]
    },
    {
     "name": "stderr",
     "output_type": "stream",
     "text": [
      "\n"
     ]
    }
   ],
   "source": [
    "import itertools\n",
    "\n",
    "proteins = set()\n",
    "negatives = []\n",
    "for (p1,p2) in data:\n",
    "    proteins.add(p1)\n",
    "    proteins.add(p2)\n",
    "\n",
    "negatives = []\n",
    "com_set = itertools.combinations(proteins, 2) \n",
    "result = []\n",
    "with tqdm(total=len(data)) as pbar:\n",
    "    while len(negatives) < len(data):\n",
    "        tt = next(com_set)\n",
    "        prot1, prot2 = tt\n",
    "        if prot1 not in interactions[prot2]:\n",
    "            negatives.append((prot1, prot2))\n",
    "            pbar.update(1)\n",
    "            \n",
    "print(f\"Количество негативных взаимодействий: {len(negatives)}\")"
   ]
  },
  {
   "cell_type": "raw",
   "metadata": {},
   "source": [
    "import random\n",
    "from tqdm import tqdm\n",
    "proteins = set()\n",
    "negatives = []\n",
    "for (p1,p2) in data:\n",
    "    proteins.add(p1)\n",
    "    proteins.add(p2)\n",
    "        \n",
    "with tqdm(total=len(data)) as pbar:\n",
    "    while len(negatives) < len(data):\n",
    "        s = random.sample(proteins, 2)\n",
    "        prot1 = s[0]\n",
    "        prot2 = s[1]\n",
    "        if (prot1,prot2) in negatives or (prot2,prot1) in negatives :\n",
    "             continue\n",
    "\n",
    "        if prot1 not in interactions[prot2]:\n",
    "            negatives.append((prot1, prot2))\n",
    "            pbar.update(1)"
   ]
  },
  {
   "cell_type": "code",
   "execution_count": 7,
   "metadata": {},
   "outputs": [
    {
     "name": "stdout",
     "output_type": "stream",
     "text": [
      "Total number of negative interactions: 420534\n",
      "Number of negative training interactions: 269143\n",
      "Number of negative validation interactions: 67285\n",
      "Number of negative testing interactions: 84106\n"
     ]
    }
   ],
   "source": [
    "print('Total number of negative interactions:', len(negatives))\n",
    "# Split negative data\n",
    "neg_train_data = negatives[:valid_n]\n",
    "neg_valid_data = negatives[valid_n:train_n]\n",
    "neg_test_data = negatives[train_n:]\n",
    "print('Number of negative training interactions:', len(neg_train_data))\n",
    "print('Number of negative validation interactions:', len(neg_valid_data))\n",
    "print('Number of negative testing interactions:', len(neg_test_data))\n",
    "# Save negative data \n",
    "save(f'data/train/{org_id}.negative_interactions.txt', neg_train_data)\n",
    "save(f'data/valid/{org_id}.negative_interactions.txt', neg_valid_data)\n",
    "save(f'data/test/{org_id}.negative_interactions.txt', neg_test_data)"
   ]
  },
  {
   "cell_type": "markdown",
   "metadata": {},
   "source": [
    "## Preprocess GO annotations\n",
    "### Load id mapping between annotation database and StringDB IDs"
   ]
  },
  {
   "cell_type": "code",
   "execution_count": 8,
   "metadata": {},
   "outputs": [
    {
     "name": "stdout",
     "output_type": "stream",
     "text": [
      "Loaded mappings 83972\n"
     ]
    }
   ],
   "source": [
    "mapping = {}\n",
    "source = {'4932': 'SGD_ID', '9606': 'Ensembl_UniProt_AC'} # mapping source\n",
    "\n",
    "with gzip.open(f'data/{org_id}.protein.aliases.v11.0.txt.gz', 'rt') as f:\n",
    "    next(f) # Skip header\n",
    "    for line in f:\n",
    "        string_id, p_id, sources = line.strip().split('\\t')\n",
    "        if source[org_id] not in sources.split():\n",
    "            continue\n",
    "            \n",
    "        if p_id not in mapping:\n",
    "            mapping[p_id] = set()\n",
    "            \n",
    "        mapping[p_id].add(string_id)\n",
    "print('Loaded mappings', len(mapping))"
   ]
  },
  {
   "cell_type": "markdown",
   "metadata": {},
   "source": [
    "### Load annotations"
   ]
  },
  {
   "cell_type": "code",
   "execution_count": 9,
   "metadata": {},
   "outputs": [
    {
     "name": "stdout",
     "output_type": "stream",
     "text": [
      "Number of annotations: 200246\n"
     ]
    }
   ],
   "source": [
    "gaf_files = {'4932': 'sgd.gaf.gz', '9606': 'goa_human.gaf.gz'}\n",
    "annotations = set()\n",
    "with gzip.open(f'data/{gaf_files[org_id]}', 'rt') as f:\n",
    "    for line in f:\n",
    "        if line.startswith('!'): # Skip header\n",
    "            continue\n",
    "        it = line.strip().split('\\t')\n",
    "        p_id = it[1]\n",
    "        go_id = it[4]\n",
    "        if it[6] == 'IEA' or it[6] == 'ND': # Ignore predicted or no data annotations\n",
    "            continue\n",
    "        if p_id not in mapping: # Not in StringDB\n",
    "            continue\n",
    "        s_ids = mapping[p_id]\n",
    "        for s_id in s_ids:\n",
    "            annotations.add((s_id, go_id))\n",
    "print('Number of annotations:', len(annotations))\n",
    "\n",
    "# Save annotations\n",
    "with open(f'data/train/{org_id}.annotation.txt', 'w') as f:\n",
    "    for p_id, go_id in annotations:\n",
    "        f.write(f'{p_id}\\t{go_id}\\n')"
   ]
  },
  {
   "cell_type": "markdown",
   "metadata": {},
   "source": [
    "## Generate Plain Training Data"
   ]
  },
  {
   "cell_type": "code",
   "execution_count": 10,
   "metadata": {},
   "outputs": [],
   "source": [
    "import os\n",
    "\n",
    "tdf = open(f'data/train/{org_id}.plain.nt', 'w')\n",
    "# Load GO\n",
    "with open('data/go.obo') as f:\n",
    "    tid = ''\n",
    "    for line in f:\n",
    "        line = line.strip()\n",
    "        if line.startswith('id:'):\n",
    "            tid = line[4:]\n",
    "        if not tid.startswith('GO:'):\n",
    "            continue\n",
    "            \n",
    "        if line.startswith('is_a:'):\n",
    "            tid2 = line[6:].split(' ! ')[0]\n",
    "            tdf.write(f'<http://{tid}> <http://is_a> <http://{tid2}> .\\n')\n",
    "            \n",
    "        if line.startswith('relationship:'):\n",
    "            it = line[14:].split(' ! ')[0].split()\n",
    "            tdf.write(f'<http://{tid}> <http://{it[0]}> <http://{it[1]}> .\\n')\n",
    "\n",
    "# Load interactions\n",
    "with open(f'data/train/{org_id}.protein.links.v11.0.txt') as f:\n",
    "    for line in f:\n",
    "        it = line.strip().split()\n",
    "        tdf.write(f'<http://{it[0]}> <http://interacts> <http://{it[1]}> .\\n')\n",
    "\n",
    "# Load annotations\n",
    "with open(f'data/train/{org_id}.annotation.txt') as f:\n",
    "    for line in f:\n",
    "        it = line.strip().split()\n",
    "        tdf.write(f'<http://{it[0]}> <http://hasFunction> <http://{it[1]}> .\\n')\n",
    "\n",
    "tdf.close()\n",
    "if not os.path.exists('data/transe'):\n",
    "    os.makedirs('data/transe')\n",
    "# ! wc -l 'data/train/{org_id}.plain.nt'"
   ]
  },
  {
   "cell_type": "markdown",
   "metadata": {},
   "source": [
    "## Generate Classes Training Data for ELEmbeddings"
   ]
  },
  {
   "cell_type": "markdown",
   "metadata": {},
   "source": [
    "Установил **groovy** https://groovy.jfrog.io/ui/native/dist-release-local/groovy-windows-installer/groovy-2.3.4/\n",
    "\n",
    "Запуск groovy из под Docker **docker run -it --rm -v D:\\IVT\\ontologies:/home/groovy groovy:2.4.8-jdk-alpine**\n",
    "\n",
    "Изменил файл el-embeddings/GenerateTrainingDataClasses на формат пути Windows (79 строчка)"
   ]
  },
  {
   "cell_type": "code",
   "execution_count": 13,
   "metadata": {},
   "outputs": [
    {
     "name": "stdout",
     "output_type": "stream",
     "text": [
      "WARNING: An illegal reflective access operation has occurred\n",
      "WARNING: Illegal reflective access by org.codehaus.groovy.reflection.CachedClass (file:/usr/share/groovy/lib/groovy-2.4.21.jar) to method java.lang.Object.finalize()\n",
      "WARNING: Please consider reporting this to the maintainers of org.codehaus.groovy.reflection.CachedClass\n",
      "WARNING: Use --illegal-access=warn to enable warnings of further illegal reflective access operations\n",
      "WARNING: All illegal access operations will be denied in a future release\n",
      "SLF4J: Failed to load class \"org.slf4j.impl.StaticLoggerBinder\".\n",
      "SLF4J: Defaulting to no-operation (NOP) logger implementation\n",
      "SLF4J: See http://www.slf4j.org/codes.html#StaticLoggerBinder for further details.\n"
     ]
    }
   ],
   "source": [
    "if not os.path.exists('data/elembeddings'):\n",
    "    os.makedirs('data/elembeddings')\n",
    "    \n",
    "path = \"D:/IVT/ontologies\" # Путь до склонированного каталога (я просто его переименовал пока боролся с ошибками)\n",
    "# !groovy el-embeddings/GenerateTrainingDataClasses -i D://IVT/ontologies/data/train/{org_id}_protein.txt -a D:/IVT/ontologies/data/train/{org_id}_annotation.txt -o D://IVT/ontologies/data/train/{org_id}_classes.owl\n",
    "!groovy el-embeddings/GenerateTrainingDataClasses -i data/train/{org_id}.protein.links.v11.0.txt -a data/train/{org_id}.annotation.txt -o data/train/{org_id}.classes.owl\n",
    "                        \n"
   ]
  },
  {
   "cell_type": "markdown",
   "metadata": {},
   "source": [
    "### Normalize training data classes into four normal forms"
   ]
  },
  {
   "cell_type": "code",
   "execution_count": 14,
   "metadata": {},
   "outputs": [
    {
     "name": "stdout",
     "output_type": "stream",
     "text": [
      "WARNING: An illegal reflective access operation has occurred\n",
      "WARNING: Illegal reflective access by org.codehaus.groovy.reflection.CachedClass (file:/usr/share/groovy/lib/groovy-2.4.21.jar) to method java.lang.Object.finalize()\n",
      "WARNING: Please consider reporting this to the maintainers of org.codehaus.groovy.reflection.CachedClass\n",
      "WARNING: Use --illegal-access=warn to enable warnings of further illegal reflective access operations\n",
      "WARNING: All illegal access operations will be denied in a future release\n",
      "SLF4J: Failed to load class \"org.slf4j.impl.StaticLoggerBinder\".\n",
      "SLF4J: Defaulting to no-operation (NOP) logger implementation\n",
      "SLF4J: See http://www.slf4j.org/codes.html#StaticLoggerBinder for further details.\n",
      "Ignoring SubObjectPropertyOf*(7 10):The translation map is incomplete. Item id was not found: '7'.\n",
      "Ignoring SubObjectPropertyOf*(8 10):The translation map is incomplete. Item id was not found: '8'.\n",
      "Ignoring SubObjectPropertyOf*(13 14):The translation map is incomplete. Item id was not found: '13'.\n"
     ]
    }
   ],
   "source": [
    "!groovy -cp el-embeddings/jar/jcel.jar el-embeddings/Normalizer.groovy -i  data/train/9606.classes.owl -o data/train/9606.classes-normalized.owl"
   ]
  },
  {
   "cell_type": "markdown",
   "metadata": {},
   "source": [
    "## Generate RDF Representation of ELEmbeddings training data"
   ]
  },
  {
   "cell_type": "code",
   "execution_count": 21,
   "metadata": {},
   "outputs": [
    {
     "name": "stderr",
     "output_type": "stream",
     "text": [
      "‘ЁбвҐ¬Ґ ­Ґ г¤ Ґвбп ­ ©вЁ гЄ § ­­л© Їгвм.\n"
     ]
    }
   ],
   "source": [
    "!rapper 'data/train/{org_id}.classes.owl' -o ntriples > 'data/train/{org_id}.classes-rdf.nt'\n"
   ]
  },
  {
   "cell_type": "markdown",
   "metadata": {
    "collapsed": true
   },
   "source": [
    "## Generate Onto/OPA2Vec-compatible associations"
   ]
  },
  {
   "cell_type": "code",
   "execution_count": 15,
   "metadata": {},
   "outputs": [],
   "source": [
    "import re\n",
    "# generate OPA2VEC compatible associations\n",
    "with open(f'data/train/{org_id}.OPA_associations.txt', 'w') as f:\n",
    "    for p_id, go_id in annotations:\n",
    "        go_num = re.split ('[A-Z]|:+',go_id)\n",
    "        f.write (str(p_id)+\" \\t\"+\"<http://purl.obolibrary.org/obo/GO_\"+str(go_num[3])+\">\\n\")"
   ]
  },
  {
   "cell_type": "code",
   "execution_count": null,
   "metadata": {},
   "outputs": [],
   "source": []
  }
 ],
 "metadata": {
  "kernelspec": {
   "display_name": "Python 3",
   "language": "python",
   "name": "python3"
  },
  "language_info": {
   "codemirror_mode": {
    "name": "ipython",
    "version": 3
   },
   "file_extension": ".py",
   "mimetype": "text/x-python",
   "name": "python",
   "nbconvert_exporter": "python",
   "pygments_lexer": "ipython3",
   "version": "3.6.13"
  }
 },
 "nbformat": 4,
 "nbformat_minor": 2
}
